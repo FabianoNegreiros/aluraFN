{
  "nbformat": 4,
  "nbformat_minor": 0,
  "metadata": {
    "colab": {
      "provenance": [],
      "authorship_tag": "ABX9TyN7LhpqFDeJJAJp00Hk9Fsd",
      "include_colab_link": true
    },
    "kernelspec": {
      "name": "python3",
      "display_name": "Python 3"
    },
    "language_info": {
      "name": "python"
    }
  },
  "cells": [
    {
      "cell_type": "markdown",
      "metadata": {
        "id": "view-in-github",
        "colab_type": "text"
      },
      "source": [
        "<a href=\"https://colab.research.google.com/github/FabianoNegreiros/aluraFN/blob/main/AgenteIAbanco.ipynb\" target=\"_parent\"><img src=\"https://colab.research.google.com/assets/colab-badge.svg\" alt=\"Open In Colab\"/></a>"
      ]
    },
    {
      "cell_type": "code",
      "execution_count": 2,
      "metadata": {
        "colab": {
          "base_uri": "https://localhost:8080/"
        },
        "id": "j9eaOGTv75pC",
        "outputId": "de357c26-b659-4ef6-ee31-8f381828bd41"
      },
      "outputs": [
        {
          "output_type": "stream",
          "name": "stdout",
          "text": [
            "\u001b[?25l   \u001b[90m━━━━━━━━━━━━━━━━━━━━━━━━━━━━━━━━━━━━━━━━\u001b[0m \u001b[32m0.0/1.2 MB\u001b[0m \u001b[31m?\u001b[0m eta \u001b[36m-:--:--\u001b[0m\r\u001b[2K   \u001b[91m━━━━━━━━━━━━━\u001b[0m\u001b[91m╸\u001b[0m\u001b[90m━━━━━━━━━━━━━━━━━━━━━━━━━━\u001b[0m \u001b[32m0.4/1.2 MB\u001b[0m \u001b[31m14.5 MB/s\u001b[0m eta \u001b[36m0:00:01\u001b[0m\r\u001b[2K   \u001b[90m━━━━━━━━━━━━━━━━━━━━━━━━━━━━━━━━━━━━━━━━\u001b[0m \u001b[32m1.2/1.2 MB\u001b[0m \u001b[31m17.7 MB/s\u001b[0m eta \u001b[36m0:00:00\u001b[0m\n",
            "\u001b[2K   \u001b[90m━━━━━━━━━━━━━━━━━━━━━━━━━━━━━━━━━━━━━━━━\u001b[0m \u001b[32m232.1/232.1 kB\u001b[0m \u001b[31m13.5 MB/s\u001b[0m eta \u001b[36m0:00:00\u001b[0m\n",
            "\u001b[2K   \u001b[90m━━━━━━━━━━━━━━━━━━━━━━━━━━━━━━━━━━━━━━━━\u001b[0m \u001b[32m95.2/95.2 kB\u001b[0m \u001b[31m5.4 MB/s\u001b[0m eta \u001b[36m0:00:00\u001b[0m\n",
            "\u001b[2K   \u001b[90m━━━━━━━━━━━━━━━━━━━━━━━━━━━━━━━━━━━━━━━━\u001b[0m \u001b[32m217.1/217.1 kB\u001b[0m \u001b[31m14.0 MB/s\u001b[0m eta \u001b[36m0:00:00\u001b[0m\n",
            "\u001b[2K   \u001b[90m━━━━━━━━━━━━━━━━━━━━━━━━━━━━━━━━━━━━━━━━\u001b[0m \u001b[32m334.1/334.1 kB\u001b[0m \u001b[31m17.2 MB/s\u001b[0m eta \u001b[36m0:00:00\u001b[0m\n",
            "\u001b[2K   \u001b[90m━━━━━━━━━━━━━━━━━━━━━━━━━━━━━━━━━━━━━━━━\u001b[0m \u001b[32m125.1/125.1 kB\u001b[0m \u001b[31m7.0 MB/s\u001b[0m eta \u001b[36m0:00:00\u001b[0m\n",
            "\u001b[2K   \u001b[90m━━━━━━━━━━━━━━━━━━━━━━━━━━━━━━━━━━━━━━━━\u001b[0m \u001b[32m65.8/65.8 kB\u001b[0m \u001b[31m4.2 MB/s\u001b[0m eta \u001b[36m0:00:00\u001b[0m\n",
            "\u001b[2K   \u001b[90m━━━━━━━━━━━━━━━━━━━━━━━━━━━━━━━━━━━━━━━━\u001b[0m \u001b[32m119.0/119.0 kB\u001b[0m \u001b[31m7.5 MB/s\u001b[0m eta \u001b[36m0:00:00\u001b[0m\n",
            "\u001b[2K   \u001b[90m━━━━━━━━━━━━━━━━━━━━━━━━━━━━━━━━━━━━━━━━\u001b[0m \u001b[32m194.9/194.9 kB\u001b[0m \u001b[31m11.7 MB/s\u001b[0m eta \u001b[36m0:00:00\u001b[0m\n",
            "\u001b[2K   \u001b[90m━━━━━━━━━━━━━━━━━━━━━━━━━━━━━━━━━━━━━━━━\u001b[0m \u001b[32m62.5/62.5 kB\u001b[0m \u001b[31m3.5 MB/s\u001b[0m eta \u001b[36m0:00:00\u001b[0m\n",
            "\u001b[2K   \u001b[90m━━━━━━━━━━━━━━━━━━━━━━━━━━━━━━━━━━━━━━━━\u001b[0m \u001b[32m103.3/103.3 kB\u001b[0m \u001b[31m6.5 MB/s\u001b[0m eta \u001b[36m0:00:00\u001b[0m\n",
            "\u001b[2K   \u001b[90m━━━━━━━━━━━━━━━━━━━━━━━━━━━━━━━━━━━━━━━━\u001b[0m \u001b[32m44.4/44.4 kB\u001b[0m \u001b[31m2.7 MB/s\u001b[0m eta \u001b[36m0:00:00\u001b[0m\n",
            "\u001b[2K   \u001b[90m━━━━━━━━━━━━━━━━━━━━━━━━━━━━━━━━━━━━━━━━\u001b[0m \u001b[32m72.0/72.0 kB\u001b[0m \u001b[31m4.6 MB/s\u001b[0m eta \u001b[36m0:00:00\u001b[0m\n",
            "\u001b[?25h"
          ]
        }
      ],
      "source": [
        "%pip -q install google-genai\n",
        "!pip install -q google-adk"
      ]
    },
    {
      "cell_type": "code",
      "source": [
        "import os\n",
        "from google.colab import userdata\n",
        "from google import genai\n",
        "from google.adk.agents import Agent\n",
        "from google.adk.runners import Runner\n",
        "from google.adk.sessions import InMemorySessionService\n",
        "from google.adk.tools import google_search\n",
        "from google.genai import types\n",
        "from datetime import date\n",
        "import textwrap\n",
        "from IPython.display import display, Markdown\n",
        "import warnings\n",
        "\n",
        "warnings.filterwarnings(\"ignore\")\n"
      ],
      "metadata": {
        "id": "E67nyi6P8g3k"
      },
      "execution_count": 3,
      "outputs": []
    },
    {
      "cell_type": "code",
      "source": [
        "# Configura a API Key do Google Gemini\n",
        "os.environ[\"GOOGLE_API_KEY\"] = userdata.get('GOOGLE_API_KEY')\n",
        "\n",
        "# Configura o cliente da SDK do Gemini\n",
        "client = genai.Client()\n",
        "\n",
        "MODEL_ID = \"gemini-2.0-flash\"\n"
      ],
      "metadata": {
        "id": "7Hm3B6aO8wBo"
      },
      "execution_count": 4,
      "outputs": []
    },
    {
      "cell_type": "code",
      "source": [
        "# Função auxiliar para exibir texto formatado em Markdown no Colab\n",
        "def to_markdown(text):\n",
        "  text = text.replace('•', '  *')\n",
        "  return Markdown(textwrap.indent(text, '> ', predicate=lambda _: True))"
      ],
      "metadata": {
        "id": "jf0OEObN82Tw"
      },
      "execution_count": 5,
      "outputs": []
    },
    {
      "cell_type": "code",
      "source": [
        "# Função auxiliar que envia uma mensagem para um agente via Runner e retorna a resposta final\n",
        "def call_agent(agent: Agent, message_text: str) -> str:\n",
        "    # Cria um serviço de sessão em memória\n",
        "    session_service = InMemorySessionService()\n",
        "    # Cria uma nova sessão\n",
        "    session = session_service.create_session(app_name=agent.name, user_id=\"user1\", session_id=\"session1\")\n",
        "    # Cria um Runner para o agente\n",
        "    runner = Runner(agent=agent, app_name=agent.name, session_service=session_service)\n",
        "    # Cria o conteúdo da mensagem de entrada\n",
        "    content = types.Content(role=\"user\", parts=[types.Part(text=message_text)])\n",
        "\n",
        "    final_response = \"\"\n",
        "    # Itera assincronamente pelos eventos retornados durante a execução do agente\n",
        "    for event in runner.run(user_id=\"user1\", session_id=\"session1\", new_message=content):\n",
        "        if event.is_final_response():\n",
        "          for part in event.content.parts:\n",
        "            if part.text is not None:\n",
        "              final_response += part.text\n",
        "              final_response += \"\\n\"\n",
        "    return final_response"
      ],
      "metadata": {
        "id": "SHjRngTs87-S"
      },
      "execution_count": 6,
      "outputs": []
    },
    {
      "cell_type": "code",
      "source": [
        "######################################################\n",
        "# --- Agente 1: Boas-Vindas e Identificação --- #\n",
        "######################################################\n",
        "def agente_boas_vindas():\n",
        "    boas_vindas_agente = Agent(\n",
        "        name=\"agente_boas_vindas\",\n",
        "        model=MODEL_ID,\n",
        "        description=\"Agente que cumprimenta o cliente e coleta informações básicas.\",\n",
        "        instruction=\"\"\"\n",
        "            Você é um agente virtual de suporte bancário. Sua primeira tarefa é dar boas-vindas ao cliente\n",
        "            e perguntar como você pode ajudar hoje. Seja cordial e profissional.\n",
        "            Tente identificar brevemente o motivo do contato do cliente.\n",
        "            \"\"\"\n",
        "    )\n",
        "    return boas_vindas_agente\n"
      ],
      "metadata": {
        "id": "dpm6J0qT9BY7"
      },
      "execution_count": 7,
      "outputs": []
    },
    {
      "cell_type": "code",
      "source": [
        "###########################################\n",
        "# --- Agente 2: Triagem de Dúvidas --- #\n",
        "###########################################\n",
        "def agente_triagem():\n",
        "    triagem_agente = Agent(\n",
        "        name=\"agente_triagem\",\n",
        "        model=MODEL_ID,\n",
        "        description=\"Agente que analisa a pergunta do cliente e a categoriza.\",\n",
        "        instruction=\"\"\"\n",
        "            Você é um agente virtual de suporte bancário. Analise a pergunta do cliente para\n",
        "            identificar a categoria principal do problema ou dúvida. As categorias possíveis são:\n",
        "\n",
        "            -   Cartões: Inclui problemas com cartão de crédito, débito, bloqueio, desbloqueio, etc.\n",
        "            -   Empréstimos: Inclui dúvidas sobre tipos de empréstimo, taxas, simulações, etc.\n",
        "            -   Financiamentos: Inclui questões sobre financiamento de imóveis, veículos, etc.\n",
        "            -   Investimentos: Inclui informações sobre opções de investimento, rendimentos, etc.\n",
        "            -   Contas: Inclui problemas com abertura de conta, saldo, extrato, etc.\n",
        "            -   Pagamentos: Inclui dúvidas sobre boletos, transferências, etc.\n",
        "            -   Outros: Para assuntos que não se encaixam nas categorias acima.\n",
        "\n",
        "            Responda com uma frase curta indicando a categoria principal e, em seguida,\n",
        "            pergunte como você pode ajudar especificamente.\n",
        "            \"\"\"\n",
        "    )\n",
        "    return triagem_agente"
      ],
      "metadata": {
        "id": "f7KF5bqf9GLR"
      },
      "execution_count": 8,
      "outputs": []
    },
    {
      "cell_type": "code",
      "source": [
        "##################################################\n",
        "# --- Agente 3: Respostas e Informações --- #\n",
        "##################################################\n",
        "\n",
        "def agente_respostas():\n",
        "    respostas_agente = Agent(\n",
        "        name=\"agente_respostas\",\n",
        "        model=MODEL_ID,\n",
        "        description=\"Agente que fornece respostas e informações detalhadas ao cliente.\",\n",
        "        instruction=\"\"\"\n",
        "            Você é um agente virtual de suporte bancário. Forneça informações detalhadas e\n",
        "            úteis para responder à pergunta do cliente. Use um tom claro e objetivo.\n",
        "            Se a pergunta for sobre:\n",
        "\n",
        "             - Cartões: Explique sobre os tipos de cartões, limites, como solicitar,\n",
        "               como desbloquear, como contestar uma compra, etc.\n",
        "             - Empréstimos: Detalhe os tipos de empréstimos (pessoal, consignado, etc.),\n",
        "               taxas de juros, prazos de pagamento, como solicitar, etc.\n",
        "             - Financiamentos: Informe sobre financiamento de imóveis e veículos,\n",
        "                documentação, taxas, prazos, etc.\n",
        "             - Investimentos: Explique sobre as opções de investimento (poupança, CDB,\n",
        "               fundos, etc.), riscos, rentabilidade, como investir, etc.\n",
        "             - Contas: Ajude com abertura de conta, saldo, extrato, tarifas, encerramento, etc.\n",
        "             - Pagamentos: Informe sobre pagamentos de boletos, transferências (TED, PIX),\n",
        "               agendamentos, comprovantes, etc.\n",
        "            - Outros: Direcione o cliente para o atendimento humano ou forneça\n",
        "              informações de contato relevantes.\n",
        "\n",
        "            Se não souber a resposta exata, diga que vai direcionar o cliente para um\n",
        "            atendente humano e forneça o número de telefone da central de atendimento.\n",
        "            \"\"\"\n",
        "    )\n",
        "    return respostas_agente"
      ],
      "metadata": {
        "id": "ujmLsu4i9PAq"
      },
      "execution_count": 9,
      "outputs": []
    },
    {
      "cell_type": "code",
      "source": [
        "def executar_atendimento():\n",
        "    # Cria instâncias dos agentes\n",
        "    agente_inicio = agente_boas_vindas()\n",
        "    agente_triagem_duvidas = agente_triagem()\n",
        "    agente_resposta = agente_respostas()\n",
        "\n",
        "    print(\"🤖 Iniciando o Agente Virtual de Suporte Bancário 🤖\")\n",
        "\n",
        "    # Simula a primeira interação com o agente de boas-vindas\n",
        "    primeira_mensagem = \"Olá!\"\n",
        "    resposta_boas_vindas = call_agent(agente_inicio, primeira_mensagem)\n",
        "    print(\"\\n--- Agente de Boas-Vindas ---\\n\")\n",
        "    display(to_markdown(resposta_boas_vindas))\n",
        "    print(\"-----------------------------\\n\")\n",
        "\n",
        "    # Coleta a resposta inicial do usuário\n",
        "    pergunta_usuario = input(\"Como posso ajudar você hoje? \")\n",
        "\n",
        "    # Loop principal de atendimento\n",
        "    while True:\n",
        "        # Envia a pergunta do usuário para o agente de triagem\n",
        "        resposta_triagem = call_agent(agente_triagem_duvidas, pergunta_usuario)\n",
        "        print(\"\\n--- Agente de Triagem ---\\n\")\n",
        "        display(to_markdown(resposta_triagem))\n",
        "        print(\"------------------------\\n\")\n",
        "\n",
        "        # Envia a pergunta do usuário para o agente de respostas\n",
        "        resposta_final = call_agent(agente_resposta, pergunta_usuario)\n",
        "        print(\"\\n--- Agente de Respostas ---\\n\")\n",
        "        display(to_markdown(resposta_final))\n",
        "        print(\"---------------------------\\n\")\n",
        "\n",
        "        # Pergunta se o usuário precisa de mais ajuda ou quer encerrar\n",
        "        pergunta_usuario = input(\"Precisa de mais alguma ajuda? (Sim/Não) \")\n",
        "        if pergunta_usuario.lower() in [\"não\", \"nao\"]:\n",
        "            print(\"Obrigado pelo contato! Tenha um bom dia.\")\n",
        "            break\n",
        "        elif pergunta_usuario.lower() != \"sim\":\n",
        "            print(\"Desculpe, não entendi. Por favor, responda com 'Sim' ou 'Não'.\")\n",
        "            pergunta_usuario = input(\"Precisa de mais alguma ajuda? (Sim/Não)\")\n",
        "        else:\n",
        "           pergunta_usuario = input(\"Qual a sua próxima pergunta? \")\n",
        "\n",
        "if __name__ == \"__main__\":\n",
        "    executar_atendimento()"
      ],
      "metadata": {
        "colab": {
          "base_uri": "https://localhost:8080/",
          "height": 1000
        },
        "id": "A3S4Hce79VU-",
        "outputId": "47f9730a-5ca7-412f-c688-158ab4ed57bc"
      },
      "execution_count": 10,
      "outputs": [
        {
          "output_type": "stream",
          "name": "stdout",
          "text": [
            "🤖 Iniciando o Agente Virtual de Suporte Bancário 🤖\n",
            "\n",
            "--- Agente de Boas-Vindas ---\n",
            "\n"
          ]
        },
        {
          "output_type": "display_data",
          "data": {
            "text/plain": [
              "<IPython.core.display.Markdown object>"
            ],
            "text/markdown": "> Olá! Boas-vindas ao nosso canal de atendimento. 😊 É um prazer atendê-lo(a).\n> \n> Em que posso ajudar você hoje?\n"
          },
          "metadata": {}
        },
        {
          "output_type": "stream",
          "name": "stdout",
          "text": [
            "-----------------------------\n",
            "\n",
            "Como posso ajudar você hoje? Gostaria de saber aonde melhor faço investimentos\n",
            "\n",
            "--- Agente de Triagem ---\n",
            "\n"
          ]
        },
        {
          "output_type": "display_data",
          "data": {
            "text/plain": [
              "<IPython.core.display.Markdown object>"
            ],
            "text/markdown": "> Investimentos. Como posso te ajudar especificamente com informações sobre investimentos?\n> \n"
          },
          "metadata": {}
        },
        {
          "output_type": "stream",
          "name": "stdout",
          "text": [
            "------------------------\n",
            "\n",
            "\n",
            "--- Agente de Respostas ---\n",
            "\n"
          ]
        },
        {
          "output_type": "display_data",
          "data": {
            "text/plain": [
              "<IPython.core.display.Markdown object>"
            ],
            "text/markdown": "> Com certeza! Para te ajudar a encontrar o melhor investimento, preciso entender um pouco mais sobre seus objetivos e perfil.\n> \n> **Para começar, me diga:**\n> \n> *   **Qual é o seu objetivo com esse investimento?** Você busca segurança, rentabilidade, ou um equilíbrio entre os dois? Está investindo para a aposentadoria, para comprar um imóvel, ou para outro objetivo?\n> *   **Qual o prazo que você tem em mente para esse investimento?** É para o curto, médio ou longo prazo?\n> *   **Qual o valor que você pretende investir?**\n> *   **Qual o seu nível de tolerância ao risco?** Você se sente confortável com a possibilidade de perdas em troca de maiores retornos, ou prefere investimentos mais conservadores?\n> \n> Com base nas suas respostas, posso te apresentar algumas opções de investimento mais adequadas para você.\n> \n> **Algumas opções de investimento comuns incluem:**\n> \n> *   **Poupança:** É o investimento mais tradicional e conservador, ideal para quem busca segurança e liquidez imediata. No entanto, a rentabilidade da poupança costuma ser menor do que outras opções.\n> *   **CDBs (Certificados de Depósito Bancário):** São títulos de renda fixa emitidos por bancos. Eles costumam oferecer rentabilidades maiores do que a poupança, mas o dinheiro fica \"preso\" por um determinado período.\n> *   **Fundos de investimento:** São carteiras de investimentos administradas por profissionais, que podem investir em diversos tipos de ativos, como ações, títulos de renda fixa, câmbio, etc. Os fundos podem ser uma boa opção para quem busca diversificação e não tem tempo ou conhecimento para investir individualmente.\n> *   **Ações:** São frações do capital social de uma empresa. Investir em ações pode ser uma forma de participar do crescimento de empresas e obter altos retornos, mas também envolve riscos maiores.\n> \n> **Importante:** Antes de tomar qualquer decisão, é fundamental pesquisar e comparar as diferentes opções de investimento, e buscar orientação de um profissional qualificado, se necessário.\n> \n> Se preferir, posso te direcionar para um de nossos especialistas em investimentos, que poderá te ajudar a encontrar a melhor opção para você. Para isso, entre em contato com nossa central de atendimento no número 0800-777-2020.\n"
          },
          "metadata": {}
        },
        {
          "output_type": "stream",
          "name": "stdout",
          "text": [
            "---------------------------\n",
            "\n",
            "Precisa de mais alguma ajuda? (Sim/Não) \n",
            "Desculpe, não entendi. Por favor, responda com 'Sim' ou 'Não'.\n",
            "Precisa de mais alguma ajuda? (Sim/Não)nao\n",
            "\n",
            "--- Agente de Triagem ---\n",
            "\n"
          ]
        },
        {
          "output_type": "display_data",
          "data": {
            "text/plain": [
              "<IPython.core.display.Markdown object>"
            ],
            "text/markdown": "> Outros: Como posso ajudar você hoje?\n"
          },
          "metadata": {}
        },
        {
          "output_type": "stream",
          "name": "stdout",
          "text": [
            "------------------------\n",
            "\n",
            "\n",
            "--- Agente de Respostas ---\n",
            "\n"
          ]
        },
        {
          "output_type": "display_data",
          "data": {
            "text/plain": [
              "<IPython.core.display.Markdown object>"
            ],
            "text/markdown": "> Por favor, pode especificar sua pergunta ou o que você precisa? Assim, posso fornecer as informações detalhadas e úteis que você procura.\n"
          },
          "metadata": {}
        },
        {
          "output_type": "stream",
          "name": "stdout",
          "text": [
            "---------------------------\n",
            "\n",
            "Precisa de mais alguma ajuda? (Sim/Não) Não\n",
            "Obrigado pelo contato! Tenha um bom dia.\n"
          ]
        }
      ]
    }
  ]
}